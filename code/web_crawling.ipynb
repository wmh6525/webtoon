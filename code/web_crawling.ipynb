{
 "cells": [
  {
   "cell_type": "markdown",
   "metadata": {},
   "source": [
    "# 필수 라이브러리 호출"
   ]
  },
  {
   "cell_type": "code",
   "execution_count": null,
   "metadata": {},
   "outputs": [],
   "source": [
    "import numpy as np\n",
    "import pandas as pd\n",
    "\n",
    "from urllib.request import urlopen\n",
    "from urllib.request import Request\n",
    "from bs4 import BeautifulSoup\n",
    "import re\n",
    "\n",
    "from selenium import webdriver\n",
    "from selenium.webdriver.common.keys import Keys\n",
    "from selenium.webdriver.common.by import By\n",
    "from selenium.webdriver.common.alert import Alert\n",
    "from selenium.webdriver.support.ui import WebDriverWait\n",
    "from selenium.webdriver.support import expected_conditions as EC\n",
    "\n",
    "import time\n",
    "import random"
   ]
  },
  {
   "cell_type": "markdown",
   "metadata": {},
   "source": [
    "## contentGenre 페이지 내에서 웹툰 random 추출 후 2015년 이후 작품 선별"
   ]
  },
  {
   "cell_type": "code",
   "execution_count": null,
   "metadata": {},
   "outputs": [],
   "source": [
    "contentGenreNameList = ['daily', 'comic', 'fantasy', 'action', 'drama', 'pure', 'sensibility', 'thrill', 'historical', 'sports']\n",
    "contentGenrePage = np.array([41,30,47,18,39,29,18,13,5,3]) #각 contentGenre별 마지막 페이지수\n",
    "sum(contentGenrePages*9) #각 페이지별로 9개씩 뽑을 예정!"
   ]
  },
  {
   "cell_type": "code",
   "execution_count": null,
   "metadata": {},
   "outputs": [],
   "source": [
    "webtoon = pd.DataFrame(columns= ['title','titleId','isPublic','totalStar','contentGenre','typeGenre','startDay',\n",
    "                                 't1','star1','starPar1','views1',\n",
    "                                 't2','star2','starPar2','views2', 'day2'\n",
    "                                 't3','star3','starPar3','views3', 'day3']) #크롤링 데이터 저장할 dataframe 생성"
   ]
  },
  {
   "cell_type": "code",
   "execution_count": null,
   "metadata": {},
   "outputs": [],
   "source": [
    "for j,contentGenre in enumerate(contentGenreNameList):\n",
    "    for page in range(1,contentGenrePage[j]+1):        \n",
    "        url = \"https://comic.naver.com/genre/bestChallenge?m=\"+contentGenre+\"&order=ViewCount&page=\"+str(page)\n",
    "        req = Request(url)\n",
    "        response = urlopen(req)\n",
    "        page = response.read()\n",
    "        bsobj = BeautifulSoup(page, \"html.parser\")\n",
    "        time.sleep(random.uniform(1,3))\n",
    "        \n",
    "        chall_img = bsobj.find(\"div\",{\"id\":\"content\"}).findAll(\"div\",{\"class\":\"fl\"})\n",
    "        chall_info = bsobj.find(\"div\",{\"id\":\"content\"}).findAll(\"div\",{\"class\":\"challengeInfo\"})\n",
    "        \n",
    "        random.seed(page)\n",
    "        randomInt = random.sample(range(len(chall_info)),min(8,len(chall_info))) #마지막 페이지에 웹툰이 8개 미만일시 모두 크롤링.\n",
    "        ## 제목, 전체별점, 장르, 정식연재인가 크롤링\n",
    "        for i in randomInt:\n",
    "            titleId = re.findall('\\d+', chall_img[i].find(\"a\").attrs['href'])[0]\n",
    "            ## 중복되는 웹툰 스킵!(장르만 추가)\n",
    "            isdup = False\n",
    "            for idx in range(len(webtoon)):\n",
    "                if webtoon.loc[idx, 'titleId'] == titleId:\n",
    "                    webtoon.loc[idx,'contentGenre'] += ', ' + contentGenre\n",
    "                    isdup = True\n",
    "                    break\n",
    "            if isdup: continue\n",
    "                \n",
    "            webtoon.loc[len(webtoon), 'title'] = chall_info[i].find(\"a\").get_text()\n",
    "            webtoon.loc[len(webtoon)-1, 'totalStar'] = chall_info[i].find(\"strong\").get_text()\n",
    "            webtoon.loc[len(webtoon)-1, 'contentGenre'] = contentGenre\n",
    "            if (str(chall_img[i].find(\"span\",{\"class\":\"mark_serial\"})) == \"None\"): #비정식연재인 경우\n",
    "                webtoon.loc[len(webtoon)-1, 'isPublic'] = 0\n",
    "            else : webtoon.loc[len(webtoon)-1, 'isPublic'] = 1 #정식연재인 경우\n",
    "            webtoon.loc[len(webtoon)-1, 'titleId'] = titleId\n",
    "    print(contentGenre,'완료')"
   ]
  },
  {
   "cell_type": "code",
   "execution_count": null,
   "metadata": {},
   "outputs": [],
   "source": [
    "webtoon.head(6)"
   ]
  },
  {
   "cell_type": "code",
   "execution_count": null,
   "metadata": {},
   "outputs": [],
   "source": [
    "webtoon.tail(6)"
   ]
  },
  {
   "cell_type": "markdown",
   "metadata": {},
   "source": [
    "### 연재 시작일 크롤링"
   ]
  },
  {
   "cell_type": "code",
   "execution_count": null,
   "metadata": {},
   "outputs": [],
   "source": [
    "wd = webdriver.Chrome('./chromedriver.exe')\n",
    "\n",
    "for i in range(len(webtoon)):\n",
    "    url = \"https://comic.naver.com/bestChallenge/list?titleId=\" + webtoon.loc[i,'titleId']\n",
    "    wd.get(url)\n",
    "    time.sleep(random.uniform(1,3))\n",
    "\n",
    "    ## 1화\n",
    "    try: # 게시물 신고에 의한 alert 웹툰 제외하고 크롤링\n",
    "        wd.find_elements(By.CSS_SELECTOR, \"#content > div.comicinfo > div.detail > ul > li:nth-child(2) > a > span\")[0].click()\n",
    "        alert = Alert(wd); alert.accept()\n",
    "        wd.back(); wd.back()\n",
    "        continue\n",
    "    except:\n",
    "        webtoon.loc[i,'startDay'] = wd.find_elements(By.CSS_SELECTOR, \"#sectionContWide > div.tit_area > div.vote_lst > dl.rt > dd:nth-child(2)\")[0].text\n",
    "    time.sleep(random.uniform(1,4))\n",
    "    if i%50==0:\n",
    "        print(i+1,'개 완료')"
   ]
  },
  {
   "cell_type": "code",
   "execution_count": null,
   "metadata": {},
   "outputs": [],
   "source": [
    "webtoon['startDay'].isnull().sum() #다 잘 뽑힘."
   ]
  },
  {
   "cell_type": "code",
   "execution_count": null,
   "metadata": {},
   "outputs": [],
   "source": [
    "webtoon.tail(1)"
   ]
  },
  {
   "cell_type": "code",
   "execution_count": null,
   "metadata": {},
   "outputs": [],
   "source": [
    "# 데이터 타입 수정\n",
    "webtoon['startDay'] = pd.to_datetime(webtoon['startDay'])\n",
    "webtoon = webtoon.astype({'isPublic':bool,'totalStar':float})"
   ]
  },
  {
   "cell_type": "code",
   "execution_count": null,
   "metadata": {},
   "outputs": [],
   "source": [
    "# 2015년 이전 작품 삭제하여 최종 크롤링할 작품만 남김.\n",
    "webtoon = webtoon.loc[webtoon['startDay'].dt.year>2015].copy()"
   ]
  },
  {
   "cell_type": "markdown",
   "metadata": {},
   "source": [
    "### 비정식 연재 크롤링"
   ]
  },
  {
   "cell_type": "code",
   "execution_count": null,
   "metadata": {},
   "outputs": [],
   "source": [
    "# 추가 크롤링을 위한 열추가\n",
    "webtoon = webtoon.reindex(columns = webtoon.columns.tolist() + [\"t4\",\"star4\",\"starPar4\",\"views4\",'day4',\n",
    "                                                                \"t5\",\"star5\",\"starPar5\",\"views5\",'day5',\n",
    "                                                                \"t6\",\"star6\",\"starPar6\",\"views6\",'day6',\"heart\"])"
   ]
  },
  {
   "cell_type": "code",
   "execution_count": null,
   "metadata": {},
   "outputs": [],
   "source": [
    "# webtoon에서 비정식 연재 데이터만 추출\n",
    "webtoon['isPublic'] = webtoon['isPublic'].astype('int') #정식연재여부를 (object)에서 string type으로 바꿈.\n",
    "\n",
    "publicIndex = webtoon[webtoon['isPublic'] == 1].index\n",
    "notPublicIndex = webtoon[webtoon['isPublic'] == 0].index"
   ]
  },
  {
   "cell_type": "code",
   "execution_count": null,
   "metadata": {},
   "outputs": [],
   "source": [
    "#정식/비정식 웹툰 titleId\n",
    "publicTitleId = webtoon.loc[publicIndex,'titleId']\n",
    "notPublicTitleId = webtoon.loc[notPublicIndex,'titleId']"
   ]
  },
  {
   "cell_type": "code",
   "execution_count": null,
   "metadata": {},
   "outputs": [],
   "source": [
    "# 댓글 크롤링할 데이터프레임\n",
    "comment= pd.DataFrame(columns= ['titleId','order','comment1','like','hate'])\n",
    "comment['titleId'] = webtoon['titleId'].copy() #webtoon과 동일한 index 사용"
   ]
  },
  {
   "cell_type": "code",
   "execution_count": null,
   "metadata": {},
   "outputs": [],
   "source": [
    "wd = webdriver.Chrome('./chromedriver.exe')\n",
    "for i,titleId in zip(publicIndex, publicTitleId):\n",
    "    url = \"https://comic.naver.com/bestChallenge/list?titleId=\"+ str(titleId)\n",
    "    wd.get(url)\n",
    "    time.sleep(4)\n",
    "    \n",
    "    webtoon.loc[i,'heart'] = wd.find_element(By.CLASS_NAME, \"u_cnt\").text\n",
    "    webtoon.loc[i,'typeGenre'] = wd.find_element(By.CSS_SELECTOR,'#content > div.snb > ul > li.on').text\n",
    "    \n",
    "    # 뒤에서 1화\n",
    "    if len(wd.find_elements(By.CSS_SELECTOR,'#content > table > tbody > tr.band_banner.v2 > td > a > em'))>0:\n",
    "        #시리즈온 작품때문에 뒤에서 1화의 클릭 위치가 다른 경우 처리.\n",
    "        wd.find_element(By.CSS_SELECTOR, \"#content > table > tbody > tr:nth-child(2) > td.title > a\").click()\n",
    "    else:\n",
    "        wd.find_element(By.CSS_SELECTOR, \"#content > table > tbody > tr:nth-child(1) > td.title > a\").click()\n",
    "    time.sleep(random.uniform(1,4))    \n",
    "   \n",
    "    webtoon.loc[i,'t6'] = wd.find_elements(By.CSS_SELECTOR, \"#sectionContWide > div.tit_area > div.view > h3\")[0].text\n",
    "    webtoon.loc[i,'star6'] = wd.find_elements(By.CSS_SELECTOR, '#topPointTotalNumber')[0].text\n",
    "    webtoon.loc[i,'starPar6'] = wd.find_elements(By.CSS_SELECTOR, '#topTotalStarPoint > span.pointTotalPerson > em')[0].text\n",
    "    webtoon.loc[i,'views6'] = wd.find_elements(By.CSS_SELECTOR, '#sectionContWide > div.tit_area > div.vote_lst > dl.rt > dd:nth-child(4)')[0].text\n",
    "    webtoon.loc[i,'day6'] = wd.find_elements(By.CSS_SELECTOR, '#sectionContWide > div.tit_area > div.vote_lst > dl.rt > dd:nth-child(2)')[0].text\n",
    "    wd.switch_to.frame('commentIframe') # 댓글 크롤링\n",
    "    for j in range(min(len(wd.find_elements(By.CLASS_NAME, 'u_cbox_contents')),5)): #댓글수가 5개 미만인 경우 고려\n",
    "        comment.loc[5*(6*i)+j,'titleId'] = titleId\n",
    "        comment.loc[5*(6*i)+j,'order'] = -1\n",
    "        comment.loc[5*(6*i)+j,'comment'] = wd.find_elements(By.CLASS_NAME, 'u_cbox_contents')[j].text\n",
    "        comment.loc[5*(6*i)+j,'like'] = wd.find_elements(By.CLASS_NAME, 'u_cbox_cnt_recomm')[j].text\n",
    "        comment.loc[5*(6*i)+j,'hate'] = wd.find_elements(By.CLASS_NAME, 'u_cbox_cnt_unrecomm')[j].text\n",
    "    wd.switch_to.default_content()\n",
    "    wd.find_element(By.CSS_SELECTOR, \"#sectionContWide > div.tit_area > div.view > div > span > a\").click() #이전화 이동\n",
    "    time.sleep(random.uniform(1,4))\n",
    "    \n",
    "    # 뒤에서 2화\n",
    "    webtoon.loc[i,'t5'] = wd.find_elements(By.CSS_SELECTOR, \"#sectionContWide > div.tit_area > div.view > h3\")[0].text\n",
    "    webtoon.loc[i,'star5'] = wd.find_elements(By.CSS_SELECTOR, '#topPointTotalNumber')[0].text\n",
    "    webtoon.loc[i,'starPar5'] = wd.find_elements(By.CSS_SELECTOR, '#topTotalStarPoint > span.pointTotalPerson > em')[0].text\n",
    "    webtoon.loc[i,'views5'] = wd.find_elements(By.CSS_SELECTOR, '#sectionContWide > div.tit_area > div.vote_lst > dl.rt > dd:nth-child(4)')[0].text\n",
    "    webtoon.loc[i,'day5'] = wd.find_elements(By.CSS_SELECTOR, '#sectionContWide > div.tit_area > div.vote_lst > dl.rt > dd:nth-child(2)')[0].text\n",
    "    wd.switch_to.frame('commentIframe') # 댓글 크롤링\n",
    "    for j in range(min(len(wd.find_elements(By.CLASS_NAME, 'u_cbox_contents')),5)):\n",
    "        comment.loc[5*(6*i+1)+j,'titleId'] = titleId\n",
    "        comment.loc[5*(6*i+1)+j,'order'] = -2\n",
    "        comment.loc[5*(6*i+1)+j,'comment'] = wd.find_elements(By.CLASS_NAME, 'u_cbox_contents')[j].text\n",
    "        comment.loc[5*(6*i+1)+j,'like'] = wd.find_elements(By.CLASS_NAME, 'u_cbox_cnt_recomm')[j].text\n",
    "        comment.loc[5*(6*i+1)+j,'hate'] = wd.find_elements(By.CLASS_NAME, 'u_cbox_cnt_unrecomm')[j].text\n",
    "    wd.switch_to.default_content()\n",
    "    wd.find_element(By.CSS_SELECTOR, \"#sectionContWide > div.tit_area > div.view > div > span > a\").click() #이전화 이동\n",
    "    time.sleep(random.uniform(1,4))\n",
    "    \n",
    "    # 뒤에서 3화\n",
    "    webtoon.loc[i,'t4'] = wd.find_elements(By.CSS_SELECTOR, \"#sectionContWide > div.tit_area > div.view > h3\")[0].text\n",
    "    webtoon.loc[i,'star4'] = wd.find_elements(By.CSS_SELECTOR, '#topPointTotalNumber')[0].text\n",
    "    webtoon.loc[i,'starPar4'] = wd.find_elements(By.CSS_SELECTOR, '#topTotalStarPoint > span.pointTotalPerson > em')[0].text\n",
    "    webtoon.loc[i,'views4'] = wd.find_elements(By.CSS_SELECTOR, '#sectionContWide > div.tit_area > div.vote_lst > dl.rt > dd:nth-child(4)')[0].text\n",
    "    webtoon.loc[i,'day4'] = wd.find_elements(By.CSS_SELECTOR, '#sectionContWide > div.tit_area > div.vote_lst > dl.rt > dd:nth-child(2)')[0].text\n",
    "    wd.switch_to.frame('commentIframe') # 댓글 크롤링\n",
    "    for j in range(min(len(wd.find_elements(By.CLASS_NAME, 'u_cbox_contents')),5)):\n",
    "        comment.loc[5*(6*i+2)+j,'titleId'] = titleId\n",
    "        comment.loc[5*(6*i+2)+j,'order'] = -3\n",
    "        comment.loc[5*(6*i+2)+j,'comment'] = wd.find_elements(By.CLASS_NAME, 'u_cbox_contents')[j].text\n",
    "        comment.loc[5*(6*i+2)+j,'like'] = wd.find_elements(By.CLASS_NAME, 'u_cbox_cnt_recomm')[j].text\n",
    "        comment.loc[5*(6*i+2)+j,'hate'] = wd.find_elements(By.CLASS_NAME, 'u_cbox_cnt_unrecomm')[j].text\n",
    "    wd.switch_to.default_content()\n",
    "    \n",
    "    # 첫회 : 댓글\n",
    "    wd.find_element(By.CSS_SELECTOR,\"#comicNavigation > div.btn_group > div > a.first\").click() #첫화 이동\n",
    "    time.sleep(random.uniform(1,4))\n",
    "    webtoon.loc[i,'t1'] = wd.find_elements(By.CSS_SELECTOR, \"#sectionContWide > div.tit_area > div.view > h3\")[0].text\n",
    "    webtoon.loc[i,'star1'] = wd.find_elements(By.CSS_SELECTOR, '#topPointTotalNumber')[0].text\n",
    "    webtoon.loc[i,'starPar1'] = wd.find_elements(By.CSS_SELECTOR, '#topTotalStarPoint > span.pointTotalPerson > em')[0].text\n",
    "    webtoon.loc[i,'views1'] = wd.find_elements(By.CSS_SELECTOR, '#sectionContWide > div.tit_area > div.vote_lst > dl.rt > dd:nth-child(4)')[0].text\n",
    "    wd.switch_to.frame('commentIframe')\n",
    "    for j in range(min(len(wd.find_elements(By.CLASS_NAME, 'u_cbox_contents')),5)):\n",
    "        comment.loc[5*(6*i+3)+j,'titleId'] = titleId\n",
    "        comment.loc[5*(6*i+3)+j,'order'] = 1\n",
    "        comment.loc[5*(6*i+3)+j,'comment'] = wd.find_elements(By.CLASS_NAME, 'u_cbox_contents')[j].text\n",
    "        comment.loc[5*(6*i+3)+j,'like'] = wd.find_elements(By.CLASS_NAME, 'u_cbox_cnt_recomm')[j].text\n",
    "        comment.loc[5*(6*i+3)+j,'hate'] = wd.find_elements(By.CLASS_NAME, 'u_cbox_cnt_unrecomm')[j].text\n",
    "    wd.switch_to.default_content()\n",
    "    wd.find_element(By.CSS_SELECTOR,\"#sectionContWide > div.tit_area > div.view > div > span.next > a\").click() #다음화 이동\n",
    "    time.sleep(random.uniform(1,4))\n",
    "    \n",
    "    # 2화 : 등록일 + 댓글\n",
    "    webtoon.loc[i,'day2'] = wd.find_elements(By.CSS_SELECTOR, '#sectionContWide > div.tit_area > div.vote_lst > dl.rt > dd:nth-child(2)')[0].text\n",
    "    webtoon.loc[i,'t2'] = wd.find_elements(By.CSS_SELECTOR, \"#sectionContWide > div.tit_area > div.view > h3\")[0].text\n",
    "    webtoon.loc[i,'star2'] = wd.find_elements(By.CSS_SELECTOR, '#topPointTotalNumber')[0].text\n",
    "    webtoon.loc[i,'starPar2'] = wd.find_elements(By.CSS_SELECTOR, '#topTotalStarPoint > span.pointTotalPerson > em')[0].text\n",
    "    webtoon.loc[i,'views2'] = wd.find_elements(By.CSS_SELECTOR, '#sectionContWide > div.tit_area > div.vote_lst > dl.rt > dd:nth-child(4)')[0].text\n",
    "    wd.switch_to.frame('commentIframe')\n",
    "    for j in range(min(len(wd.find_elements(By.CLASS_NAME, 'u_cbox_contents')),5)):\n",
    "        comment.loc[5*(6*i+4)+j,'titleId'] = titleId\n",
    "        comment.loc[5*(6*i+4)+j,'order'] = 2\n",
    "        comment.loc[5*(6*i+4)+j,'comment'] = wd.find_elements(By.CLASS_NAME, 'u_cbox_contents')[j].text\n",
    "        comment.loc[5*(6*i+4)+j,'like'] = wd.find_elements(By.CLASS_NAME, 'u_cbox_cnt_recomm')[j].text\n",
    "        comment.loc[5*(6*i+4)+j,'hate'] = wd.find_elements(By.CLASS_NAME, 'u_cbox_cnt_unrecomm')[j].text\n",
    "    wd.switch_to.default_content()\n",
    "    wd.find_element(By.CSS_SELECTOR,\"#sectionContWide > div.tit_area > div.view > div > span.next > a\").click() #다음화 이동\n",
    "    time.sleep(random.uniform(1,4))\n",
    "    \n",
    "    #3화 : 동록일 + 댓글\n",
    "    webtoon.loc[i,'day3'] = wd.find_elements(By.CSS_SELECTOR, '#sectionContWide > div.tit_area > div.vote_lst > dl.rt > dd:nth-child(2)')[0].text\n",
    "    webtoon.loc[i,'t3'] = wd.find_elements(By.CSS_SELECTOR, \"#sectionContWide > div.tit_area > div.view > h3\")[0].text\n",
    "    webtoon.loc[i,'star3'] = wd.find_elements(By.CSS_SELECTOR, '#topPointTotalNumber')[0].text\n",
    "    webtoon.loc[i,'starPar3'] = wd.find_elements(By.CSS_SELECTOR, '#topTotalStarPoint > span.pointTotalPerson > em')[0].text\n",
    "    webtoon.loc[i,'views3'] = wd.find_elements(By.CSS_SELECTOR, '#sectionContWide > div.tit_area > div.vote_lst > dl.rt > dd:nth-child(4)')[0].text\n",
    "    wd.switch_to.frame('commentIframe')\n",
    "    for j in range(min(len(wd.find_elements(By.CLASS_NAME, 'u_cbox_contents')),5)):\n",
    "        comment.loc[5*(6*i+5)+j,'titleId'] = titleId\n",
    "        comment.loc[5*(6*i+5)+j,'order'] = 3\n",
    "        comment.loc[5*(6*i+5)+j,'comment'] = wd.find_elements(By.CLASS_NAME, 'u_cbox_contents')[j].text\n",
    "        comment.loc[5*(6*i+5)+j,'like'] = wd.find_elements(By.CLASS_NAME, 'u_cbox_cnt_recomm')[j].text\n",
    "        comment.loc[5*(6*i+5)+j,'hate'] = wd.find_elements(By.CLASS_NAME, 'u_cbox_cnt_unrecomm')[j].text\n",
    "    wd.switch_to.default_content()"
   ]
  },
  {
   "cell_type": "markdown",
   "metadata": {},
   "source": [
    "### 정식연재"
   ]
  },
  {
   "cell_type": "code",
   "execution_count": null,
   "metadata": {},
   "outputs": [],
   "source": [
    "lastno = [81,21,35,22,10,56,3,9,-1,-1,21,25,34,11,14,17,11,-1,-1,21,6,11,18,13,7,7,25,11,23,-1,20,8,8,6,7,-1,\n",
    "          34,10,6,28,-1,5,75,12,-1,14,6,11,20,23,-1,4,8,16,15,6,3,-1,5,7,-1,25,15,4,18,6,17,13,19,21,6,13,-1,\n",
    "          9,18,1,8,13,13,5,-1,17,14] #공지를 제외한 마지막 화 url 끝부분의 숫자\n",
    "                                     #공지밖에 없는 웹툰들은 불러오지 않음. -> -1로 표현\n",
    "lastno = pd.DataFrame(np.array(lastno).astype(int), index = publicIndex)\n",
    "lastno.columns = ['lastno']"
   ]
  },
  {
   "cell_type": "code",
   "execution_count": null,
   "metadata": {},
   "outputs": [],
   "source": [
    "wd = webdriver.Chrome('./chromedriver.exe')\n",
    "for i,titleId in zip(publicIndex, publicTitleId):\n",
    "    #lastno가 np.nan이면 continue 후 나중에 webtoon 에서 na존재하는 행 삭제\n",
    "    if lastno.loc[i,'lastno'] == -1:\n",
    "        continue\n",
    "    url = \"https://comic.naver.com/bestChallenge/list?titleId=\" + str(titleId)\n",
    "    wd.get(url)\n",
    "    time.sleep(3)\n",
    "\n",
    "    webtoon.loc[i,'heart'] = wd.find_element(By.CLASS_NAME, \"u_cnt\").text\n",
    "    webtoon.loc[i,'typeGenre'] = wd.find_element(By.CSS_SELECTOR,'#content > div.snb > ul > li.on').text\n",
    "\n",
    "    # 뒤에서 1화\n",
    "    url = \"https://comic.naver.com/bestChallenge/detail?titleId=\"+ str(titleId) + \"&no=\" + str(lastno.loc[i,'lastno'])\n",
    "    wd.get(url)\n",
    "    time.sleep(random.uniform(1,4))\n",
    "    webtoon.loc[i,'t6'] = wd.find_elements(By.CSS_SELECTOR, \"#sectionContWide > div.tit_area > div.view > h3\")[0].text\n",
    "    webtoon.loc[i,'star6'] = wd.find_elements(By.CSS_SELECTOR, '#topPointTotalNumber')[0].text\n",
    "    webtoon.loc[i,'starPar6'] = wd.find_elements(By.CSS_SELECTOR, '#topTotalStarPoint > span.pointTotalPerson > em')[0].text\n",
    "    webtoon.loc[i,'views6'] = wd.find_elements(By.CSS_SELECTOR, '#sectionContWide > div.tit_area > div.vote_lst > dl.rt > dd:nth-child(4)')[0].text\n",
    "    webtoon.loc[i,'day6'] = wd.find_elements(By.CSS_SELECTOR, '#sectionContWide > div.tit_area > div.vote_lst > dl.rt > dd:nth-child(2)')[0].text\n",
    "    wd.switch_to.frame('commentIframe') # 댓글 크롤링\n",
    "    for j in range(min(len(wd.find_elements(By.CLASS_NAME, 'u_cbox_contents')),5)): #댓글수가 5개 미만인 경우 고려\n",
    "        comment.loc[5*(6*i)+j,'titleId'] = titleId\n",
    "        comment.loc[5*(6*i)+j,'order'] = -1\n",
    "        comment.loc[5*(6*i)+j,'comment'] = wd.find_elements(By.CLASS_NAME, 'u_cbox_contents')[j].text\n",
    "        comment.loc[5*(6*i)+j,'like'] = wd.find_elements(By.CLASS_NAME, 'u_cbox_cnt_recomm')[j].text\n",
    "        comment.loc[5*(6*i)+j,'hate'] = wd.find_elements(By.CLASS_NAME, 'u_cbox_cnt_unrecomm')[j].text\n",
    "    wd.switch_to.default_content()\n",
    "    wd.find_element(By.CSS_SELECTOR, \"#sectionContWide > div.tit_area > div.view > div > span > a\").click() #이전화 이동\n",
    "    time.sleep(random.uniform(1,4))\n",
    "    \n",
    "    # 뒤에서 2화\n",
    "    webtoon.loc[i,'t5'] = wd.find_elements(By.CSS_SELECTOR, \"#sectionContWide > div.tit_area > div.view > h3\")[0].text\n",
    "    webtoon.loc[i,'star5'] = wd.find_elements(By.CSS_SELECTOR, '#topPointTotalNumber')[0].text\n",
    "    webtoon.loc[i,'starPar5'] = wd.find_elements(By.CSS_SELECTOR, '#topTotalStarPoint > span.pointTotalPerson > em')[0].text\n",
    "    webtoon.loc[i,'views5'] = wd.find_elements(By.CSS_SELECTOR, '#sectionContWide > div.tit_area > div.vote_lst > dl.rt > dd:nth-child(4)')[0].text\n",
    "    webtoon.loc[i,'day5'] = wd.find_elements(By.CSS_SELECTOR, '#sectionContWide > div.tit_area > div.vote_lst > dl.rt > dd:nth-child(2)')[0].text\n",
    "    wd.switch_to.frame('commentIframe') # 댓글 크롤링\n",
    "    for j in range(min(len(wd.find_elements(By.CLASS_NAME, 'u_cbox_contents')),5)):\n",
    "        comment.loc[5*(6*i+1)+j,'titleId'] = titleId\n",
    "        comment.loc[5*(6*i+1)+j,'order'] = -2\n",
    "        comment.loc[5*(6*i+1)+j,'comment'] = wd.find_elements(By.CLASS_NAME, 'u_cbox_contents')[j].text\n",
    "        comment.loc[5*(6*i+1)+j,'like'] = wd.find_elements(By.CLASS_NAME, 'u_cbox_cnt_recomm')[j].text\n",
    "        comment.loc[5*(6*i+1)+j,'hate'] = wd.find_elements(By.CLASS_NAME, 'u_cbox_cnt_unrecomm')[j].text\n",
    "    wd.switch_to.default_content()\n",
    "    wd.find_element(By.CSS_SELECTOR, \"#sectionContWide > div.tit_area > div.view > div > span > a\").click() #이전화 이동\n",
    "    time.sleep(random.uniform(1,4))\n",
    "    \n",
    "    # 뒤에서 3화\n",
    "    webtoon.loc[i,'t4'] = wd.find_elements(By.CSS_SELECTOR, \"#sectionContWide > div.tit_area > div.view > h3\")[0].text\n",
    "    webtoon.loc[i,'star4'] = wd.find_elements(By.CSS_SELECTOR, '#topPointTotalNumber')[0].text\n",
    "    webtoon.loc[i,'starPar4'] = wd.find_elements(By.CSS_SELECTOR, '#topTotalStarPoint > span.pointTotalPerson > em')[0].text\n",
    "    webtoon.loc[i,'views4'] = wd.find_elements(By.CSS_SELECTOR, '#sectionContWide > div.tit_area > div.vote_lst > dl.rt > dd:nth-child(4)')[0].text\n",
    "    webtoon.loc[i,'day4'] = wd.find_elements(By.CSS_SELECTOR, '#sectionContWide > div.tit_area > div.vote_lst > dl.rt > dd:nth-child(2)')[0].text\n",
    "    wd.switch_to.frame('commentIframe') # 댓글 크롤링\n",
    "    for j in range(min(len(wd.find_elements(By.CLASS_NAME, 'u_cbox_contents')),5)):\n",
    "        comment.loc[5*(6*i+2)+j,'titleId'] = titleId\n",
    "        comment.loc[5*(6*i+2)+j,'order'] = -3\n",
    "        comment.loc[5*(6*i+2)+j,'comment'] = wd.find_elements(By.CLASS_NAME, 'u_cbox_contents')[j].text\n",
    "        comment.loc[5*(6*i+2)+j,'like'] = wd.find_elements(By.CLASS_NAME, 'u_cbox_cnt_recomm')[j].text\n",
    "        comment.loc[5*(6*i+2)+j,'hate'] = wd.find_elements(By.CLASS_NAME, 'u_cbox_cnt_unrecomm')[j].text\n",
    "    wd.switch_to.default_content()\n",
    "    \n",
    "    # 첫회 : 댓글\n",
    "    wd.find_element(By.CSS_SELECTOR,\"#comicNavigation > div.btn_group > div > a.first\").click() #첫화 이동\n",
    "    time.sleep(random.uniform(1,4))\n",
    "    webtoon.loc[i,'t1'] = wd.find_elements(By.CSS_SELECTOR, \"#sectionContWide > div.tit_area > div.view > h3\")[0].text\n",
    "    webtoon.loc[i,'star1'] = wd.find_elements(By.CSS_SELECTOR, '#topPointTotalNumber')[0].text\n",
    "    webtoon.loc[i,'starPar1'] = wd.find_elements(By.CSS_SELECTOR, '#topTotalStarPoint > span.pointTotalPerson > em')[0].text\n",
    "    webtoon.loc[i,'views1'] = wd.find_elements(By.CSS_SELECTOR, '#sectionContWide > div.tit_area > div.vote_lst > dl.rt > dd:nth-child(4)')[0].text\n",
    "    wd.switch_to.frame('commentIframe')\n",
    "    for j in range(min(len(wd.find_elements(By.CLASS_NAME, 'u_cbox_contents')),5)):\n",
    "        comment.loc[5*(6*i+3)+j,'titleId'] = titleId\n",
    "        comment.loc[5*(6*i+3)+j,'order'] = 1\n",
    "        comment.loc[5*(6*i+3)+j,'comment'] = wd.find_elements(By.CLASS_NAME, 'u_cbox_contents')[j].text\n",
    "        comment.loc[5*(6*i+3)+j,'like'] = wd.find_elements(By.CLASS_NAME, 'u_cbox_cnt_recomm')[j].text\n",
    "        comment.loc[5*(6*i+3)+j,'hate'] = wd.find_elements(By.CLASS_NAME, 'u_cbox_cnt_unrecomm')[j].text\n",
    "    wd.switch_to.default_content()\n",
    "    wd.find_element(By.CSS_SELECTOR,\"#sectionContWide > div.tit_area > div.view > div > span.next > a\").click() #다음화 이동\n",
    "    time.sleep(random.uniform(1,4))\n",
    "    \n",
    "    # 2화 : 등록일 + 댓글\n",
    "    webtoon.loc[i,'day2'] = wd.find_elements(By.CSS_SELECTOR, '#sectionContWide > div.tit_area > div.vote_lst > dl.rt > dd:nth-child(2)')[0].text\n",
    "    webtoon.loc[i,'t2'] = wd.find_elements(By.CSS_SELECTOR, \"#sectionContWide > div.tit_area > div.view > h3\")[0].text\n",
    "    webtoon.loc[i,'star2'] = wd.find_elements(By.CSS_SELECTOR, '#topPointTotalNumber')[0].text\n",
    "    webtoon.loc[i,'starPar2'] = wd.find_elements(By.CSS_SELECTOR, '#topTotalStarPoint > span.pointTotalPerson > em')[0].text\n",
    "    webtoon.loc[i,'views2'] = wd.find_elements(By.CSS_SELECTOR, '#sectionContWide > div.tit_area > div.vote_lst > dl.rt > dd:nth-child(4)')[0].text\n",
    "    wd.switch_to.frame('commentIframe')\n",
    "    for j in range(min(len(wd.find_elements(By.CLASS_NAME, 'u_cbox_contents')),5)):\n",
    "        comment.loc[5*(6*i+4)+j,'titleId'] = titleId\n",
    "        comment.loc[5*(6*i+4)+j,'order'] = 2\n",
    "        comment.loc[5*(6*i+4)+j,'comment'] = wd.find_elements(By.CLASS_NAME, 'u_cbox_contents')[j].text\n",
    "        comment.loc[5*(6*i+4)+j,'like'] = wd.find_elements(By.CLASS_NAME, 'u_cbox_cnt_recomm')[j].text\n",
    "        comment.loc[5*(6*i+4)+j,'hate'] = wd.find_elements(By.CLASS_NAME, 'u_cbox_cnt_unrecomm')[j].text\n",
    "    wd.switch_to.default_content()\n",
    "    wd.find_element(By.CSS_SELECTOR,\"#sectionContWide > div.tit_area > div.view > div > span.next > a\").click() #다음화 이동\n",
    "    time.sleep(random.uniform(1,4))\n",
    "    \n",
    "    #3화 : 동록일 + 댓글\n",
    "    webtoon.loc[i,'day3'] = wd.find_elements(By.CSS_SELECTOR, '#sectionContWide > div.tit_area > div.vote_lst > dl.rt > dd:nth-child(2)')[0].text\n",
    "    webtoon.loc[i,'t3'] = wd.find_elements(By.CSS_SELECTOR, \"#sectionContWide > div.tit_area > div.view > h3\")[0].text\n",
    "    webtoon.loc[i,'star3'] = wd.find_elements(By.CSS_SELECTOR, '#topPointTotalNumber')[0].text\n",
    "    webtoon.loc[i,'starPar3'] = wd.find_elements(By.CSS_SELECTOR, '#topTotalStarPoint > span.pointTotalPerson > em')[0].text\n",
    "    webtoon.loc[i,'views3'] = wd.find_elements(By.CSS_SELECTOR, '#sectionContWide > div.tit_area > div.vote_lst > dl.rt > dd:nth-child(4)')[0].text\n",
    "    wd.switch_to.frame('commentIframe')\n",
    "    for j in range(min(len(wd.find_elements(By.CLASS_NAME, 'u_cbox_contents')),5)):\n",
    "        comment.loc[5*(6*i+5)+j,'titleId'] = titleId\n",
    "        comment.loc[5*(6*i+5)+j,'order'] = 3\n",
    "        comment.loc[5*(6*i+5)+j,'comment'] = wd.find_elements(By.CLASS_NAME, 'u_cbox_contents')[j].text\n",
    "        comment.loc[5*(6*i+5)+j,'like'] = wd.find_elements(By.CLASS_NAME, 'u_cbox_cnt_recomm')[j].text\n",
    "        comment.loc[5*(6*i+5)+j,'hate'] = wd.find_elements(By.CLASS_NAME, 'u_cbox_cnt_unrecomm')[j].text\n",
    "    wd.switch_to.default_content()"
   ]
  },
  {
   "cell_type": "code",
   "execution_count": null,
   "metadata": {},
   "outputs": [],
   "source": [
    "webtoon.shape"
   ]
  },
  {
   "cell_type": "code",
   "execution_count": null,
   "metadata": {},
   "outputs": [],
   "source": [
    "webtoon.loc[webtoon['isPublic']==1].shape"
   ]
  },
  {
   "cell_type": "markdown",
   "metadata": {},
   "source": [
    "### Data 저장"
   ]
  },
  {
   "cell_type": "code",
   "execution_count": null,
   "metadata": {},
   "outputs": [],
   "source": [
    "## 웹툰 데이터 csv 파일로 저장\n",
    "webtoon.to_csv('webtoon.csv', index= False)\n",
    "comment.to_csv('comment.csv', index= False)"
   ]
  },
  {
   "cell_type": "code",
   "execution_count": null,
   "metadata": {},
   "outputs": [],
   "source": [
    "# 저장 확인\n",
    "import pandas as pd\n",
    "\n",
    "webtoon = pd.read_csv('webtoon.csv')\n",
    "comment = pd.read_csv('comment.csv')"
   ]
  }
 ],
 "metadata": {
  "kernelspec": {
   "display_name": "'lg'",
   "language": "python",
   "name": "lg"
  },
  "language_info": {
   "codemirror_mode": {
    "name": "ipython",
    "version": 3
   },
   "file_extension": ".py",
   "mimetype": "text/x-python",
   "name": "python",
   "nbconvert_exporter": "python",
   "pygments_lexer": "ipython3",
   "version": "3.10.0"
  }
 },
 "nbformat": 4,
 "nbformat_minor": 2
}
