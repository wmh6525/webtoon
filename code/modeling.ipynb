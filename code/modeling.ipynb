{
 "cells": [
  {
   "cell_type": "code",
   "execution_count": null,
   "metadata": {},
   "outputs": [],
   "source": [
    "!pip install imbalanced-learn\n",
    "\n",
    "import numpy as np\n",
    "import pandas as pd\n",
    "import sklearn\n",
    "from sklearn import metrics\n",
    "from sklearn.linear_model import LogisticRegression\n",
    "from sklearn.ensemble import RandomForestClassifier\n",
    "from sklearn.ensemble import AdaBoostClassifier\n",
    "from sklearn.model_selection import train_test_split\n",
    "from sklearn.linear_model import Ridge, Lasso, ElasticNet\n",
    "from sklearn.metrics import confusion_matrix\n",
    "from sklearn.metrics import accuracy_score, roc_auc_score, roc_curve\n",
    "import statsmodels.api as sm\n",
    "import matplotlib.pyplot as plt\n",
    "import time\n",
    "\n",
    "from collections import Counter\n",
    "from imblearn.under_sampling import RandomUnderSampler"
   ]
  },
  {
   "cell_type": "code",
   "execution_count": null,
   "metadata": {},
   "outputs": [],
   "source": [
    "webtoon = pd.read_csv('C:/Users/dltjw/Downloads/webtoonData.csv')\n",
    "webtoon"
   ]
  },
  {
   "cell_type": "code",
   "execution_count": null,
   "metadata": {},
   "outputs": [],
   "source": [
    "webtoon.drop([\"titleId\"], axis=1, inplace = True)"
   ]
  },
  {
   "cell_type": "code",
   "execution_count": null,
   "metadata": {},
   "outputs": [],
   "source": [
    "#contentGenre와 typeGenre one-hot encoding\n",
    "webtoon = pd.get_dummies(data = webtoon, columns=['contentGenre'], prefix='contGenre')\n",
    "webtoon = pd.get_dummies(data = webtoon, columns=['typeGenre'], prefix='typeGenre')\n"
   ]
  },
  {
   "cell_type": "code",
   "execution_count": null,
   "metadata": {},
   "outputs": [],
   "source": [
    "# 회귀모델에서 b0를 위한 상수항 추가\n",
    "webtoon = sm.add_constant(webtoon,has_constant = \"add\")\n"
   ]
  },
  {
   "cell_type": "code",
   "execution_count": null,
   "metadata": {},
   "outputs": [],
   "source": [
    "#열 순서 변경\n",
    "webtoon = webtoon[['const', 'totalStar', 'heartLog', 'starDif',\n",
    "                   'starParRatio', 'viewRatio', 'dateInterval', 'words0', 'words1',\n",
    "                   'contGenre_action', 'contGenre_comic', 'contGenre_daily',\n",
    "                   'contGenre_drama', 'contGenre_fantasy', 'contGenre_historical',\n",
    "                   'contGenre_pure', 'contGenre_sensibility', 'contGenre_sports',\n",
    "                   'contGenre_thrill', 'typeGenre_스토리', 'typeGenre_에피소드',\n",
    "                   'typeGenre_옴니버스','isPublic']]\n"
   ]
  },
  {
   "cell_type": "code",
   "execution_count": null,
   "metadata": {},
   "outputs": [],
   "source": [
    "# X,y dataset 분리\n",
    "X, y = webtoon.iloc[:,:-1], webtoon['isPublic']\n",
    "# class imbalance 확인\n",
    "y.sum()/len(y)"
   ]
  },
  {
   "cell_type": "code",
   "execution_count": null,
   "metadata": {},
   "outputs": [],
   "source": [
    "# 임계값 함수\n",
    "def cut_off(y, threshold) :\n",
    "    Y = y.copy()\n",
    "    Y[Y>threshold] = 1\n",
    "    Y[Y<threshold] = 0\n",
    "    return Y.astype(int)"
   ]
  },
  {
   "cell_type": "code",
   "execution_count": null,
   "metadata": {},
   "outputs": [],
   "source": [
    "# 정확도 acc 함수 \n",
    "\n",
    "def acc(cfmat):\n",
    "\tacc = (cfmat[0,0] + cfmat[1,1]) / np.sum(cfmat)\n",
    "\treturn acc"
   ]
  },
  {
   "cell_type": "markdown",
   "metadata": {},
   "source": [
    "### 8:2 undersampling & Logistic"
   ]
  },
  {
   "cell_type": "code",
   "execution_count": null,
   "metadata": {},
   "outputs": [],
   "source": [
    "#under sampling 8:2\n",
    "undersample = RandomUnderSampler(sampling_strategy=0.25,random_state=121818)\n",
    "X_under, y_under = undersample.fit_resample(X, y)\n",
    "print(Counter(y_under))"
   ]
  },
  {
   "cell_type": "code",
   "execution_count": null,
   "metadata": {},
   "outputs": [],
   "source": [
    "accList = []\n",
    "aucList = []\n",
    "for i in range(50):\n",
    "    train_X, test_X ,train_y, test_y = train_test_split(X_under, y_under, stratify=y_under, train_size=0.8,test_size=0.2,\n",
    "                                                        random_state=121818+i)\n",
    "    # Lasso 적합\n",
    "    ll = Lasso(alpha = 0.01)\n",
    "    result = ll.fit(train_X,train_y)\n",
    "    pred_Y_prob = ll.predict(test_X)\n",
    "    pred_Y_class = cut_off(pred_Y_prob, 0.5)\n",
    "    \n",
    "    ## 예측 및 acc,auc 계산\n",
    "    cfmat = confusion_matrix(test_y,pred_Y_class)\n",
    "    accList.append(acc(cfmat))\n",
    "    fpr,tpr, thresholds = metrics.roc_curve(test_y,pred_Y_class,pos_label=1)\n",
    "    aucList.append(np.trapz(tpr,fpr))\n",
    "    \n",
    "    if i==0:\n",
    "        print(cfmat)"
   ]
  },
  {
   "cell_type": "code",
   "execution_count": null,
   "metadata": {},
   "outputs": [],
   "source": [
    "np.array(aucList).mean()"
   ]
  },
  {
   "cell_type": "code",
   "execution_count": null,
   "metadata": {},
   "outputs": [],
   "source": [
    "np.array(accList).mean()"
   ]
  },
  {
   "cell_type": "markdown",
   "metadata": {},
   "source": [
    "### 2:1 Undersampling & Logistic"
   ]
  },
  {
   "cell_type": "code",
   "execution_count": null,
   "metadata": {},
   "outputs": [],
   "source": [
    "#under sampling\n",
    "undersample = RandomUnderSampler(sampling_strategy=0.5,random_state=1220)\n",
    "X_under2, y_under2 = undersample.fit_resample(X, y)\n",
    "print(Counter(y_under2))"
   ]
  },
  {
   "cell_type": "code",
   "execution_count": null,
   "metadata": {},
   "outputs": [],
   "source": [
    "accList2 = []\n",
    "aucList2 = []"
   ]
  },
  {
   "cell_type": "code",
   "execution_count": null,
   "metadata": {},
   "outputs": [],
   "source": [
    "for i in range(50):\n",
    "    train_X2, test_X2 ,train_y2, test_y2 = train_test_split(X_under2, y_under2, stratify=y_under2, train_size=0.8,test_size=0.2,\n",
    "                                                            random_state=1220+i)\n",
    "    # Lasso 적합\n",
    "    ll = Lasso(alpha = 0.01 )\n",
    "    result = ll.fit(train_X2,train_y2)\n",
    "    pred_Y_prob = ll.predict(test_X2)\n",
    "    pred_Y_class = cut_off(pred_Y_prob, 0.5)\n",
    "    \n",
    "    ## 예측 및 acc,auc 계산\n",
    "    cfmat2 = confusion_matrix(test_y2,pred_Y_class)\n",
    "    accList2.append(acc(cfmat2))\n",
    "    fpr,tpr, thresholds = metrics.roc_curve(test_y2,pred_Y_class,pos_label=1)\n",
    "    aucList2.append(np.trapz(tpr,fpr))\n",
    "    if i==0:\n",
    "        print(cfmat2)"
   ]
  },
  {
   "cell_type": "code",
   "execution_count": null,
   "metadata": {},
   "outputs": [],
   "source": [
    "np.array(aucList2).mean()"
   ]
  },
  {
   "cell_type": "code",
   "execution_count": null,
   "metadata": {},
   "outputs": [],
   "source": [
    "np.array(accList2).mean()"
   ]
  },
  {
   "cell_type": "markdown",
   "metadata": {},
   "source": [
    "### 1:1 Undersamplikng & Logistic"
   ]
  },
  {
   "cell_type": "code",
   "execution_count": null,
   "metadata": {},
   "outputs": [],
   "source": [
    "#under sampling\n",
    "undersample = RandomUnderSampler(sampling_strategy=1,random_state=121818)\n",
    "X_under3, y_under3 = undersample.fit_resample(X, y)\n",
    "print(Counter(y_under3))\n"
   ]
  },
  {
   "cell_type": "code",
   "execution_count": null,
   "metadata": {},
   "outputs": [],
   "source": [
    "\n",
    "accList3 = []\n",
    "aucList3 = []\n"
   ]
  },
  {
   "cell_type": "code",
   "execution_count": null,
   "metadata": {},
   "outputs": [],
   "source": [
    "for i in range(50):\n",
    "    train_X3, test_X3 ,train_y3, test_y3 = train_test_split(X_under3, y_under3, stratify=y_under3, train_size=0.8,test_size=0.2,\n",
    "                                                            random_state=121818+i)\n",
    "    # Lasso 적합\n",
    "    ll = Lasso(alpha = 0.01 )\n",
    "    result = ll.fit(train_X3,train_y3)\n",
    "    pred_Y_prob = ll.predict(test_X3)\n",
    "    pred_Y_class = cut_off(pred_Y_prob, 0.5)\n",
    "    \n",
    "    ## 예측 및 acc,auc 계산\n",
    "    cfmat3 = confusion_matrix(test_y3,pred_Y_class)\n",
    "    accList3.append(acc(cfmat3))\n",
    "    fpr,tpr, thresholds = metrics.roc_curve(test_y3,pred_Y_class,pos_label=1)\n",
    "    aucList3.append(np.trapz(tpr,fpr))\n",
    "    if i==0:\n",
    "        print(cfmat3)"
   ]
  },
  {
   "cell_type": "code",
   "execution_count": null,
   "metadata": {},
   "outputs": [],
   "source": [
    "print(np.array(aucList3).mean())\n",
    "print(np.array(accList3).mean())"
   ]
  },
  {
   "cell_type": "markdown",
   "metadata": {},
   "source": [
    "### 9:1 sampling & randomfores"
   ]
  },
  {
   "cell_type": "code",
   "execution_count": null,
   "metadata": {},
   "outputs": [],
   "source": [
    "accList4 = []\n",
    "aucList4 = []\n",
    "for i in range(50):\n",
    "    X_train4, X_test4 ,y_train4, y_test4 = train_test_split(X, y, stratify=y, train_size=0.9,test_size=0.1,\n",
    "                                                            random_state=121818+i)\n",
    "    rf = RandomForestClassifier(random_state=121818+i)\n",
    "    rf.fit(X_train4, y_train4)\n",
    "    \n",
    "    accList4.append(rf.score(X_test4,y_test4))\n",
    "    \n",
    "    y_pred = rf.predict(X_test4)\n",
    "    cfmat = confusion_matrix(y_test4, y_pred)\n",
    "    \n",
    "    y_pred_proba = rf.predict_proba(X_test4)[:,1]\n",
    "    auc = roc_auc_score(y_test4, y_pred_proba)\n",
    "    aucList4.append(auc)\n",
    "    if i==0:\n",
    "        print(cfmat)"
   ]
  },
  {
   "cell_type": "code",
   "execution_count": null,
   "metadata": {},
   "outputs": [],
   "source": [
    "print(np.array(aucList4).mean())\n",
    "print(np.array(accList4).mean())"
   ]
  },
  {
   "cell_type": "markdown",
   "metadata": {},
   "source": [
    "### 4:3 Undersampling & RandomForest"
   ]
  },
  {
   "cell_type": "code",
   "execution_count": null,
   "metadata": {},
   "outputs": [],
   "source": [
    "accList5 = []\n",
    "aucList5 = []\n"
   ]
  },
  {
   "cell_type": "code",
   "execution_count": null,
   "metadata": {},
   "outputs": [],
   "source": [
    "undersample = RandomUnderSampler(sampling_strategy=0.7,random_state=121818)\n",
    "X_under, y_under = undersample.fit_resample(X, y)\n"
   ]
  },
  {
   "cell_type": "code",
   "execution_count": null,
   "metadata": {},
   "outputs": [],
   "source": [
    "for i in range(50):\n",
    "    X_train_under, X_test_under, y_train_under, y_test_under = train_test_split(X_under, y_under, stratify=y_under, test_size=0.2, random_state=121818)\n",
    "\n",
    "    rf = RandomForestClassifier(random_state=121818+i)\n",
    "    rf.fit(X_train_under, y_train_under)\n",
    "    \n",
    "    accList5.append(rf.score(X_test_under,y_test_under))\n",
    "    \n",
    "    y_pred = rf.predict(X_test_under)\n",
    "    cfmat = confusion_matrix(y_test_under, y_pred)\n",
    "    \n",
    "    y_pred_proba = rf.predict_proba(X_test_under)[:,1]\n",
    "    auc = roc_auc_score(y_test_under, y_pred_proba)\n",
    "    aucList5.append(auc)\n",
    "    if i==0:\n",
    "        print(cfmat)"
   ]
  },
  {
   "cell_type": "code",
   "execution_count": null,
   "metadata": {},
   "outputs": [],
   "source": [
    "print(np.array(aucList5).mean())\n",
    "print(np.array(accList5).mean())"
   ]
  },
  {
   "cell_type": "markdown",
   "metadata": {},
   "source": [
    "### 8:2 Undersampling & AdaBoost"
   ]
  },
  {
   "cell_type": "code",
   "execution_count": null,
   "metadata": {},
   "outputs": [],
   "source": [
    "#under sampling 8:2\n",
    "undersample = RandomUnderSampler(sampling_strategy=0.25,random_state=121818)\n",
    "X_under, y_under = undersample.fit_resample(X, y)\n",
    "print(Counter(y_under))"
   ]
  },
  {
   "cell_type": "code",
   "execution_count": null,
   "metadata": {},
   "outputs": [],
   "source": [
    "accList6 = []\n",
    "aucList6 = []\n",
    "for i in range(50):\n",
    "    train_X6, test_X6 ,train_y6, test_y6 = train_test_split(X_under, y_under, stratify=y_under, train_size=0.8,test_size=0.2,\n",
    "                                                        random_state=121818+i)\n",
    "    \n",
    "    abc = AdaBoostClassifier(n_estimators=50,\n",
    "                         learning_rate=1)\n",
    "    model = abc.fit(train_X6, train_y6)\n",
    "    pred_Y_class = model.predict(test_X6)\n",
    "    \n",
    "    ## 예측 및 acc,auc 계산\n",
    "    cfmat = confusion_matrix(test_y6,pred_Y_class)\n",
    "    accList6.append(acc(cfmat))\n",
    "    fpr,tpr, thresholds = metrics.roc_curve(test_y6,pred_Y_class,pos_label=1)\n",
    "    aucList6.append(np.trapz(tpr,fpr))\n",
    "    \n",
    "    if i==0:\n",
    "        print(cfmat)"
   ]
  },
  {
   "cell_type": "code",
   "execution_count": null,
   "metadata": {},
   "outputs": [],
   "source": [
    "\n",
    "print(np.array(aucList6).mean())\n",
    "print(np.array(accList6).mean())"
   ]
  },
  {
   "cell_type": "markdown",
   "metadata": {},
   "source": [
    "### 변수 선택"
   ]
  },
  {
   "cell_type": "code",
   "execution_count": null,
   "metadata": {},
   "outputs": [],
   "source": [
    "# 변수 선택 전후의 차이를 비교하기 위해 random_state 지정함\n",
    "X_train_under, X_test_under, y_train_under, y_test_under = train_test_split(\n",
    "    X_under, y_under, stratify=y_under, test_size=0.2, random_state=121818)\n",
    "\n",
    "rf_under = RandomForestClassifier(random_state=121818)\n",
    "rf_under.fit(X_train_under, y_train_under)\n",
    "\n",
    "y_pred_proba = rf_under.predict_proba(X_test_under)[:,1]\n",
    "roc_auc_score(y_test_under, y_pred_proba)"
   ]
  },
  {
   "cell_type": "code",
   "execution_count": null,
   "metadata": {},
   "outputs": [],
   "source": [
    "# 변수 중요도 확인\n",
    "feature_df = pd.DataFrame()\n",
    "feature_df['feature'] = X.columns\n",
    "feature_df['importance'] = rf_under.feature_importances_\n",
    "feature_df"
   ]
  },
  {
   "cell_type": "code",
   "execution_count": null,
   "metadata": {},
   "outputs": [],
   "source": [
    "# confusion matrix\n",
    "y_under_pred = rf_under.predict(X_test_under)\n",
    "confusion_matrix(y_test_under, y_under_pred)# type장르 제외\n",
    "noType = webtoon.drop(['typeGenre_스토리','typeGenre_에피소드','typeGenre_옴니버스'], axis=1).copy()\n",
    "X, y = noType.iloc[:,:-1], noType['isPublic']\n",
    "\n",
    "undersample = RandomUnderSampler(sampling_strategy=0.75,random_state=121818)\n",
    "X_under, y_under = undersample.fit_resample(X, y)\n",
    "\n",
    "X_train_under, X_test_under, y_train_under, y_test_under = train_test_split(\n",
    "    X_under, y_under, stratify=y_under, test_size=0.2, random_state=121818)\n",
    "\n",
    "rf_under = RandomForestClassifier(random_state=121818)\n",
    "rf_under.fit(X_train_under, y_train_under)\n",
    "\n",
    "y_pred_proba = rf_under.predict_proba(X_test_under)[:,1]\n",
    "roc_auc_score(y_test_under, y_pred_proba)"
   ]
  },
  {
   "cell_type": "code",
   "execution_count": null,
   "metadata": {},
   "outputs": [],
   "source": [
    "# confusion matrix\n",
    "y_under_pred = rf_under.predict(X_test_under)\n",
    "confusion_matrix(y_test_under, y_under_pred)"
   ]
  },
  {
   "cell_type": "code",
   "execution_count": null,
   "metadata": {},
   "outputs": [],
   "source": [
    "y_pred_proba # 예측 확률"
   ]
  },
  {
   "cell_type": "code",
   "execution_count": null,
   "metadata": {},
   "outputs": [],
   "source": [
    "print(*y_test_under) # 실제값"
   ]
  },
  {
   "cell_type": "code",
   "execution_count": null,
   "metadata": {},
   "outputs": [],
   "source": [
    "X_test_under.loc[99] # 하나의 웹툰 확인 "
   ]
  }
 ],
 "metadata": {
  "language_info": {
   "name": "python"
  }
 },
 "nbformat": 4,
 "nbformat_minor": 2
}
