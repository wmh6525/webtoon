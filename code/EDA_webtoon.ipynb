{
 "cells": [
  {
   "cell_type": "markdown",
   "metadata": {},
   "source": [
    "### EDA with python"
   ]
  },
  {
   "cell_type": "code",
   "execution_count": null,
   "metadata": {},
   "outputs": [],
   "source": [
    "import pandas as pd\n",
    "data = pd.read_csv('webtoon.csv')\n",
    "pd.set_option('display.max_columns', None)\n",
    "data.head(1)"
   ]
  },
  {
   "cell_type": "code",
   "execution_count": null,
   "metadata": {},
   "outputs": [],
   "source": [
    "data.drop(['title','t1','t2','t3','t4','t5','t6'], axis=1, inplace=True)"
   ]
  },
  {
   "cell_type": "code",
   "execution_count": null,
   "metadata": {},
   "outputs": [],
   "source": [
    "import matplotlib.pyplot as plt\n",
    "import seaborn as sns\n",
    "import warnings\n",
    "warnings.filterwarnings(action='ignore')"
   ]
  },
  {
   "cell_type": "markdown",
   "metadata": {},
   "source": [
    "### 1. totalStar"
   ]
  },
  {
   "cell_type": "code",
   "execution_count": null,
   "metadata": {},
   "outputs": [],
   "source": [
    "sns.distplot(data['totalStar'])"
   ]
  },
  {
   "cell_type": "code",
   "execution_count": null,
   "metadata": {},
   "outputs": [],
   "source": [
    "# boxcox 변환\n",
    "from scipy import stats\n",
    "y, lambda_optimal = stats.boxcox(data['totalStar'])\n",
    "sns.distplot(y, ax=ax[1], color='red')"
   ]
  },
  {
   "cell_type": "markdown",
   "metadata": {},
   "source": [
    "### 2. heart"
   ]
  },
  {
   "cell_type": "code",
   "execution_count": null,
   "metadata": {},
   "outputs": [],
   "source": [
    "data['heart'] = data['heart'].str.replace(',','') # 천단위 콤마 제거\n",
    "data['heart'] = data['heart'].astype(int)\n",
    "sns.distplot(data['heart'])"
   ]
  },
  {
   "cell_type": "code",
   "execution_count": null,
   "metadata": {},
   "outputs": [],
   "source": [
    "# 로그변환\n",
    "sns.displot(np.log(data['heart']), color='red')"
   ]
  },
  {
   "cell_type": "markdown",
   "metadata": {},
   "source": [
    "### 3. star"
   ]
  },
  {
   "cell_type": "code",
   "execution_count": null,
   "metadata": {},
   "outputs": [],
   "source": [
    "data['starEarly'] = (data['star1'] + data['star2'] + data['star3'])/3\n",
    "data['starLater'] = (data['star6'] + data['star5'] + data['star4'])/3\n",
    "data.loc[only5,'starLater'] = (data['star6'] + data['star5'])/2\n",
    "data.loc[only4,'starLater'] = data['star6']"
   ]
  },
  {
   "cell_type": "code",
   "execution_count": null,
   "metadata": {},
   "outputs": [],
   "source": [
    "fig, ax = plt.subplots(ncols=2)\n",
    "sns.distplot(data['starEarly'], ax=ax[0])\n",
    "sns.distplot(data['starLater'], ax=ax[1])"
   ]
  },
  {
   "cell_type": "code",
   "execution_count": null,
   "metadata": {},
   "outputs": [],
   "source": [
    "fig, ax = plt.subplots(ncols=2)\n",
    "\n",
    "y, lambda_optimal = stats.boxcox(data['starEarly'])\n",
    "sns.distplot(y, ax=ax[0], color='red')\n",
    "\n",
    "y, lambda_optimal = stats.boxcox(data['starEarly'])\n",
    "sns.distplot(y, ax=ax[1], color='red')"
   ]
  },
  {
   "cell_type": "code",
   "execution_count": null,
   "metadata": {},
   "outputs": [],
   "source": [
    "data['starDif'] = data['starEarly'] - data['starLater']\n",
    "data['starRatio'] = data['starEarly'] / data['starLater']\n",
    "fig, ax = plt.subplots(ncols=2)"
   ]
  },
  {
   "cell_type": "code",
   "execution_count": null,
   "metadata": {},
   "outputs": [],
   "source": [
    "sns.distplot(data['starDif'], ax=ax[0])\n",
    "sns.distplot(data['starRatio'], ax=ax[1])"
   ]
  },
  {
   "cell_type": "code",
   "execution_count": null,
   "metadata": {},
   "outputs": [],
   "source": [
    "sns.distplot(data['starDif'][data['isPublic'] == 0], color = 'green', label = 'not public')\n",
    "sns.distplot(data['starDif'][data['isPublic'] == 1], color = 'red', label = 'public')"
   ]
  },
  {
   "cell_type": "code",
   "execution_count": null,
   "metadata": {},
   "outputs": [],
   "source": [
    "sns.distplot(data['starRatio'][data['isPublic'] == 0], color = 'green', label = 'not public')\n",
    "sns.distplot(data['starRatio'][data['isPublic'] == 1], color = 'red', label = 'public')"
   ]
  },
  {
   "cell_type": "code",
   "execution_count": null,
   "metadata": {},
   "outputs": [],
   "source": [
    "data[['starDif','starRatio','isPublic']].corr()"
   ]
  },
  {
   "cell_type": "markdown",
   "metadata": {},
   "source": [
    "### 4. starPar"
   ]
  },
  {
   "cell_type": "code",
   "execution_count": null,
   "metadata": {},
   "outputs": [],
   "source": [
    "data['starParEarly'] = (data['starPar1'] + data['starPar2'] + data['starPar3'])/3\n",
    "data['starParLater'] = (data['starPar6'] + data['starPar5'] + data['starPar4'])/3\n",
    "data.loc[only5,'starParLater'] = (data['starPar6'] + data['starPar5'])/2\n",
    "data.loc[only4,'starParLater'] = data['starPar6']"
   ]
  },
  {
   "cell_type": "code",
   "execution_count": null,
   "metadata": {},
   "outputs": [],
   "source": [
    "fig, ax = plt.subplots(ncols=2)\n",
    "sns.distplot(data['starParEarly'], ax=ax[0])\n",
    "sns.distplot(data['starParLater'], ax=ax[1])"
   ]
  },
  {
   "cell_type": "code",
   "execution_count": null,
   "metadata": {},
   "outputs": [],
   "source": [
    "# 로그변환\n",
    "fig, ax = plt.subplots(ncols=2)\n",
    "sns.distplot(np.log(data['starParEarly']), ax=ax[0], color='red')\n",
    "sns.distplot(np.log(data['starParLater']), ax=ax[1], color='red')"
   ]
  },
  {
   "cell_type": "code",
   "execution_count": null,
   "metadata": {},
   "outputs": [],
   "source": [
    "data['starParRatio'] = np.log(data['starParEarly']) / np.log(data['starParLater'])\n",
    "sns.distplot(data['starParRatio'], color='red')"
   ]
  },
  {
   "cell_type": "markdown",
   "metadata": {},
   "source": [
    "### 5. view"
   ]
  },
  {
   "cell_type": "code",
   "execution_count": null,
   "metadata": {},
   "outputs": [],
   "source": [
    "data['viewEarly'] = (data['views1'] + data['views2'] + data['views3'])/3\n",
    "data['viewLater'] = (data['views6'] + data['views5'] + data['views4'])/3\n",
    "data.loc[only5,'viewLater'] = (data['views6'] + data['views5'])/2\n",
    "data.loc[only4,'viewLater'] = data['views6']"
   ]
  },
  {
   "cell_type": "code",
   "execution_count": null,
   "metadata": {},
   "outputs": [],
   "source": [
    "fig, ax = plt.subplots(ncols=2)\n",
    "sns.distplot(data['viewEarly'], ax=ax[0])\n",
    "sns.distplot(data['viewLater'], ax=ax[1])"
   ]
  },
  {
   "cell_type": "code",
   "execution_count": null,
   "metadata": {},
   "outputs": [],
   "source": [
    "# 로그변환\n",
    "fig, ax = plt.subplots(ncols=2)\n",
    "sns.distplot(np.log(data['viewEarly']), ax=ax[0], color='red')\n",
    "sns.distplot(np.log(data['viewLater']), ax=ax[1], color='red')"
   ]
  },
  {
   "cell_type": "code",
   "execution_count": null,
   "metadata": {},
   "outputs": [],
   "source": [
    "data['viewRatio'] = np.log(data['viewEarly']) / np.log(data['viewLater'])\n",
    "sns.distplot(data['viewRatio'], color='red')"
   ]
  },
  {
   "cell_type": "markdown",
   "metadata": {},
   "source": [
    "### 6. viewEarly 와 viewLater 비교"
   ]
  },
  {
   "cell_type": "code",
   "execution_count": null,
   "metadata": {},
   "outputs": [],
   "source": [
    "pairData = pd.concat([np.log(data[['viewEarly','viewLater']]), data['isPublic']],\n",
    "                    axis=1)\n",
    "sns.pairplot(pairData, hue='isPublic')\n",
    "plt.show()"
   ]
  },
  {
   "cell_type": "code",
   "execution_count": null,
   "metadata": {},
   "outputs": [],
   "source": [
    "sns.distplot(np.log(data['viewRatio'][data['isPublic'] == 0]), \n",
    "             color = 'green', label = 'not public')\n",
    "sns.distplot(np.log(data['viewRatio'][data['isPublic'] == 1]), \n",
    "             color = 'red', label = 'public')\n",
    "plt.show()"
   ]
  },
  {
   "cell_type": "markdown",
   "metadata": {},
   "source": [
    "### 7. day"
   ]
  },
  {
   "cell_type": "code",
   "execution_count": null,
   "metadata": {},
   "outputs": [],
   "source": [
    "from datetime import datetime\n",
    "import time\n",
    "data['startDay'] = pd.to_datetime(data['startDay'])\n",
    "data['day2'] = pd.to_datetime(data['day2'])\n",
    "data['day3'] = pd.to_datetime(data['day3'])\n",
    "data['day4'] = pd.to_datetime(data['day4'])\n",
    "data['day5'] = pd.to_datetime(data['day5'])\n",
    "data['day6'] = pd.to_datetime(data['day6'])"
   ]
  },
  {
   "cell_type": "code",
   "execution_count": null,
   "metadata": {},
   "outputs": [],
   "source": [
    "dateInterval1 = data['day2'] - data['startDay']\n",
    "dateInterval2 = data['day3'] - data['day2']\n",
    "dateInterval3 = data['day5'] - data['day4']\n",
    "dateInterval4 = data['day6'] - data['day5']"
   ]
  },
  {
   "cell_type": "code",
   "execution_count": null,
   "metadata": {},
   "outputs": [],
   "source": [
    "data['dateInterval'] = (dateInterval1+dateInterval2+dateInterval3+dateInterval4)/4\n",
    "data.loc[only5, 'dateInterval'] = (dateInterval1+dateInterval2+dateInterval4)/3\n",
    "data.loc[only4, 'dateInterval'] = (dateInterval1+dateInterval2)/2\n",
    "data['dateInterval'] = data['dateInterval'].dt.days"
   ]
  },
  {
   "cell_type": "markdown",
   "metadata": {},
   "source": [
    "## DataFrame으로 정리"
   ]
  },
  {
   "cell_type": "code",
   "execution_count": null,
   "metadata": {},
   "outputs": [],
   "source": [
    "data.head()"
   ]
  },
  {
   "cell_type": "code",
   "execution_count": null,
   "metadata": {},
   "outputs": [],
   "source": [
    "newData = pd.DataFrame()\n",
    "newData['titleId'] = data['titleId']\n",
    "newData['isPublic'] = data['isPublic']\n",
    "newData['totalStar'] = data['totalStar']\n",
    "newData['heartLog'] = np.log(data['heart'])\n",
    "newData['starDif'] = data['starDif']\n",
    "newData['starParRatio'] = data['starParRatio']\n",
    "newData['viewRatio'] = data['viewRatio']\n",
    "newData['dateInterval'] = data['dateInterval']"
   ]
  },
  {
   "cell_type": "code",
   "execution_count": null,
   "metadata": {},
   "outputs": [],
   "source": [
    "commentData = pd.read_csv('comment_words.csv') #웹툰별 words0, words1 값 저장한 데이터\n",
    "newData['words0'] = commentData['words0']\n",
    "newData['words1'] = commentData['words1']"
   ]
  },
  {
   "cell_type": "code",
   "execution_count": null,
   "metadata": {},
   "outputs": [],
   "source": [
    "newData['words0'] = newData['words0'].fillna(0)\n",
    "newData['words1'] = newData['words1'].fillna(0)"
   ]
  },
  {
   "cell_type": "code",
   "execution_count": null,
   "metadata": {},
   "outputs": [],
   "source": [
    "newData.isnull().sum()"
   ]
  },
  {
   "cell_type": "code",
   "execution_count": null,
   "metadata": {},
   "outputs": [],
   "source": [
    "genre = pd.read_csv('webtoon_dataset.csv', encoding='cp949') #1개의 장르에만 포함시킨 데이터\n",
    "newData['typeGenre'] = genre['typeGenre']\n",
    "newData['contentGenre'] = genre['oneGenre']"
   ]
  },
  {
   "cell_type": "code",
   "execution_count": null,
   "metadata": {},
   "outputs": [],
   "source": [
    "newData.head()"
   ]
  }
 ],
 "metadata": {
  "language_info": {
   "name": "python"
  }
 },
 "nbformat": 4,
 "nbformat_minor": 2
}
